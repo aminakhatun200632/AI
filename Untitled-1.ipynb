{
 "cells": [
  {
   "cell_type": "code",
   "execution_count": 33,
   "metadata": {},
   "outputs": [
    {
     "name": "stdout",
     "output_type": "stream",
     "text": [
      "All moves of tower of hanoi\n",
      "Move the disk 1 from A to C\n",
      "Move the disk 1 from A to B\n",
      "Move the disk 1 from C to B\n",
      "Move the disk 1 from A to C\n",
      "Move the disk 1 from B to A\n",
      "Move the disk 1 from B to C\n",
      "Move the disk 1 from A to C\n"
     ]
    }
   ],
   "source": [
    "def tower_of_hanoi(n, source, auxiliary, destination):\n",
    "    if n > 0:\n",
    "\n",
    "       tower_of_hanoi(n-1, source, destination, auxiliary)\n",
    "\n",
    "       print(f\"Move the disk {1} from {source} to {destination}\")\n",
    "       tower_of_hanoi(n-1, auxiliary,source, destination)\n",
    "\n",
    "print(\"All moves of tower of hanoi\")\n",
    "num_disk = 3\n",
    "tower_of_hanoi(num_disk, 'A', 'B', 'C')"
   ]
  },
  {
   "cell_type": "code",
   "execution_count": 34,
   "metadata": {},
   "outputs": [
    {
     "name": "stdout",
     "output_type": "stream",
     "text": [
      "Breadth-First Traversal starting from vertex 'A':\n",
      "A B C D E F "
     ]
    }
   ],
   "source": [
    "from collections import deque \n",
    "def bfs(graph, start_vertex): \n",
    "    visited = set()\n",
    "    queue = deque([start_vertex])\n",
    "    visited.add(start_vertex)\n",
    "\n",
    "    while queue:\n",
    "        vertex = queue.popleft()\n",
    "        print(vertex, end=\" \")\n",
    "\n",
    "        for neighbor in graph[vertex]:\n",
    "            if neighbor not in visited:\n",
    "                queue.append(neighbor)\n",
    "                visited.add(neighbor)\n",
    "\n",
    "graph = {\n",
    "    'A': ['B', 'C'],\n",
    "    'B': ['A', 'D', 'E'],\n",
    "    'C': ['A', 'F'],\n",
    "    'D': ['B'],\n",
    "    'E': ['B', 'F'],\n",
    "    'F': ['C', 'E']\n",
    "}\n",
    "\n",
    "print(\"Breadth-First Traversal starting from vertex 'A':\")\n",
    "bfs(graph, 'A')"
   ]
  },
  {
   "cell_type": "code",
   "execution_count": null,
   "metadata": {},
   "outputs": [],
   "source": []
  },
  {
   "cell_type": "code",
   "execution_count": 50,
   "metadata": {},
   "outputs": [
    {
     "data": {
      "image/png": "[encoded data removed]",
      "text/plain": [
       "<Figure size 640x480 with 1 Axes>"
      ]
     },
     "metadata": {},
     "output_type": "display_data"
    }
   ],
   "source": [
    "import numpy as np\n",
    "import matplotlib.pyplot as plt\n",
    "from sklearn.linear_model import LinearRegression\n",
    "\n",
    "# Generate some random data for demonstration\n",
    "np.random.seed(0)\n",
    "X = np.random.rand(100, 1) * 10\n",
    "y = 2 * X.squeeze() + np.random.randn(100)\n",
    "\n",
    "# Fit the regression model\n",
    "model = LinearRegression()\n",
    "model.fit(X, y)\n",
    "\n",
    "# Predict y values\n",
    "y_pred = model.predict(X)\n",
    "\n",
    "# Plot the data and the regression line\n",
    "plt.scatter(X, y, color='blue')\n",
    "plt.plot(X, y_pred, color='red', linewidth=2)\n",
    "plt.title('Simple Linear Regression')\n",
    "plt.xlabel('X')\n",
    "plt.ylabel('y')\n",
    "plt.show()"
   ]
  },
  {
   "cell_type": "code",
   "execution_count": 51,
   "metadata": {},
   "outputs": [
    {
     "name": "stdout",
     "output_type": "stream",
     "text": [
      "    Name  Age Gender  Marks\n",
      "0   John   25      M     85\n",
      "1   Jane   30      F     90\n",
      "2    Bob   22      M     75\n",
      "3  Alice   28      F     88\n",
      "4    Eve   24      F     92\n",
      "    Name  Age Gender  Marks\n",
      "0   John   25      M     85\n",
      "1   Jane   30      F     90\n",
      "2    Bob   22      M     75\n",
      "3  Alice   28      F     88\n",
      "4    Eve   24      F     92\n"
     ]
    }
   ],
   "source": [
    "import pandas as pd\n",
    "\n",
    "# Creating a dataset\n",
    "data = {\n",
    "    'Name': ['John', 'Jane', 'Bob', 'Alice', 'Eve'],\n",
    "    'Age': [25, 30, 22, 28, 24],\n",
    "    'Gender': ['M', 'F', 'M', 'F', 'F'],\n",
    "    'Marks': [85, 90, 75, 88, 92]\n",
    "}\n",
    "\n",
    "# Creating a DataFrame\n",
    "df = pd.DataFrame(data)\n",
    "\n",
    "# Saving the DataFrame to a CSV file\n",
    "df.to_csv('students_data.csv', index=False)\n",
    "\n",
    "# Loading the dataset back into a DataFrame\n",
    "loaded_df = pd.read_csv('students_data.csv')\n",
    "print(df)\n",
    "\n",
    "# Displaying the loaded DataFrame\n",
    "print(loaded_df)"
   ]
  },
  {
   "cell_type": "code",
   "execution_count": 52,
   "metadata": {},
   "outputs": [
    {
     "name": "stdout",
     "output_type": "stream",
     "text": [
      "Statistics for Age:\n",
      "Mean: 25.8\n",
      "Mode: 22\n",
      "Median: 25.0\n",
      "Variance: 10.2\n",
      "Standard Deviation: 3.1937438845342623\n",
      "\n",
      "Statistics for Marks:\n",
      "Mean: 86.0\n",
      "Mode: 75\n",
      "Median: 88.0\n",
      "Variance: 44.5\n",
      "Standard Deviation: 6.670832032063167\n"
     ]
    }
   ],
   "source": [
    "import pandas as pd\n",
    "\n",
    "# Load the dataset\n",
    "df = pd.read_csv('students_data.csv')\n",
    "\n",
    "# Calculations for Age\n",
    "age_mean = df['Age'].mean()\n",
    "age_mode = df['Age'].mode()[0]  # Mode can be multiple, so we take the first one\n",
    "age_median = df['Age'].median()\n",
    "age_variance = df['Age'].var()\n",
    "age_std_dev = df['Age'].std()\n",
    "\n",
    "# Calculations for Marks\n",
    "marks_mean = df['Marks'].mean()\n",
    "marks_mode = df['Marks'].mode()[0]  # Mode can be multiple, so we take the first one\n",
    "marks_median = df['Marks'].median()\n",
    "marks_variance = df['Marks'].var()\n",
    "marks_std_dev = df['Marks'].std()\n",
    "\n",
    "# Print the results\n",
    "print(f\"Statistics for Age:\")\n",
    "print(f\"Mean: {age_mean}\")\n",
    "print(f\"Mode: {age_mode}\")\n",
    "print(f\"Median: {age_median}\")\n",
    "print(f\"Variance: {age_variance}\")\n",
    "print(f\"Standard Deviation: {age_std_dev}\\n\")\n",
    "\n",
    "print(f\"Statistics for Marks:\")\n",
    "print(f\"Mean: {marks_mean}\")\n",
    "print(f\"Mode: {marks_mode}\")\n",
    "print(f\"Median: {marks_median}\")\n",
    "print(f\"Variance: {marks_variance}\")\n",
    "print(f\"Standard Deviation: {marks_std_dev}\")"
   ]
  },
  {
   "cell_type": "code",
   "execution_count": 54,
   "metadata": {},
   "outputs": [
    {
     "name": "stdout",
     "output_type": "stream",
     "text": [
      "\n",
      "Shortest Path: 1 2 4 3 1 \n",
      "Minimum Cost: 80\n"
     ]
    }
   ],
   "source": [
    "import numpy as np\n",
    "\n",
    "def travellingsalesman(c):\n",
    "    global cost\n",
    "    adj_vertex = 999\n",
    "    min_val = 999\n",
    "    visited[c] = 1\n",
    "    print((c + 1), end=\" \")\n",
    "    for k in range(n):\n",
    "        if (tsp_g[c][k] != 0) and (visited[k] == 0):\n",
    "            if tsp_g[c][k] < min_val:\n",
    "                min_val = tsp_g[c][k]\n",
    "                adj_vertex = k\n",
    "    if min_val != 999:\n",
    "        cost = cost + min_val\n",
    "    if adj_vertex == 999:\n",
    "        adj_vertex = 0\n",
    "        print((adj_vertex + 1), end=\" \")\n",
    "        cost = cost + tsp_g[c][adj_vertex]\n",
    "        return\n",
    "    travellingsalesman(adj_vertex)\n",
    "\n",
    "n = 4\n",
    "cost = 0\n",
    "visited = np.zeros(n, dtype=int)\n",
    "tsp_g = np.array([[0, 10, 15, 20],\n",
    "                  [10, 0, 35, 25],\n",
    "                  [15, 35, 0, 30],\n",
    "                  [20, 25, 30, 0]])\n",
    "\n",
    "print()\n",
    "print(\"Shortest Path:\", end=\" \")\n",
    "travellingsalesman(0)\n",
    "print()\n",
    "print(\"Minimum Cost:\", end=\" \")\n",
    "print(cost)"
   ]
  },
  {
   "cell_type": "code",
   "execution_count": 55,
   "metadata": {},
   "outputs": [
    {
     "name": "stdout",
     "output_type": "stream",
     "text": [
      "Depth-First Traversal starting from vertex 'A':\n",
      "0 1 2 3 4 "
     ]
    }
   ],
   "source": [
    "def dfs(graph, vertex, visited):\n",
    "    if vertex not in visited:\n",
    "        print(vertex, end=\" \")\n",
    "        visited.add(vertex)\n",
    "        for neighbor in graph[vertex]:\n",
    "            dfs(graph, neighbor, visited)\n",
    "\n",
    "# Example Usage\n",
    "graph = {\n",
    "    0: [1,2,3],\n",
    "    1: [0],\n",
    "    2: [0,3,4],\n",
    "    3: [0,2],\n",
    "    4: [2]\n",
    "    \n",
    "}\n",
    "\n",
    "visited = set()\n",
    "\n",
    "print(\"Depth-First Traversal starting from vertex 'A':\")\n",
    "dfs(graph, 0, visited)"
   ]
  }
 ],
 "metadata": {
  "kernelspec": {
   "display_name": "Python 3",
   "language": "python",
   "name": "python3"
  },
  "language_info": {
   "codemirror_mode": {
    "name": "ipython",
    "version": 3
   },
   "file_extension": ".py",
   "mimetype": "text/x-python",
   "name": "python",
   "nbconvert_exporter": "python",
   "pygments_lexer": "ipython3",
   "version": "3.12.0"
  }
 },
 "nbformat": 4,
 "nbformat_minor": 2
}
